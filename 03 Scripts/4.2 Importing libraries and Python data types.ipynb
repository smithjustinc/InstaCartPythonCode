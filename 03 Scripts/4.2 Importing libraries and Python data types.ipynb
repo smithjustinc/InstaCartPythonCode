{
 "cells": [
  {
   "cell_type": "markdown",
   "id": "aa1eac66",
   "metadata": {},
   "source": [
    "# 01. Importing libraries"
   ]
  },
  {
   "cell_type": "markdown",
   "id": "052109ca",
   "metadata": {},
   "source": [
    "Contents:\n",
    "Import Libraries\n",
    "Data Types\n",
    "Combining Strings and Integers\n",
    "Printing Multiple Strings"
   ]
  },
  {
   "cell_type": "code",
   "execution_count": 21,
   "id": "736686d3",
   "metadata": {},
   "outputs": [],
   "source": [
    "# Import libraries\n",
    "import pandas as pd\n",
    "import numpy as np\n",
    "import os"
   ]
  },
  {
   "cell_type": "code",
   "execution_count": 47,
   "id": "89d48ec3",
   "metadata": {},
   "outputs": [],
   "source": [
    "#Python Data Types Q6\n",
    "a = 50\n",
    "b = 10\n",
    "c =40\n",
    "d = 60"
   ]
  },
  {
   "cell_type": "code",
   "execution_count": 48,
   "id": "bd3d35fa",
   "metadata": {},
   "outputs": [
    {
     "name": "stdout",
     "output_type": "stream",
     "text": [
      "100\n",
      "100\n",
      "100\n"
     ]
    }
   ],
   "source": [
    "#Q7\n",
    "print(a + a)\n",
    "print(a + b + c)\n",
    "print(d + a - b)"
   ]
  },
  {
   "cell_type": "code",
   "execution_count": 52,
   "id": "f43d1c8c",
   "metadata": {},
   "outputs": [
    {
     "name": "stdout",
     "output_type": "stream",
     "text": [
      "2.5\n"
     ]
    }
   ],
   "source": [
    "#Q8\n",
    "e = 5.5\n",
    "f = 2.2\n",
    "print(e/f)"
   ]
  },
  {
   "cell_type": "code",
   "execution_count": 53,
   "id": "df73f52b",
   "metadata": {},
   "outputs": [
    {
     "name": "stdout",
     "output_type": "stream",
     "text": [
      "jupyter\n"
     ]
    }
   ],
   "source": [
    "#Q9\n",
    "g = 'jup'\n",
    "h = 'yter'\n",
    "short_word = g + h\n",
    "print(short_word)"
   ]
  },
  {
   "cell_type": "code",
   "execution_count": 54,
   "id": "adc93ac5",
   "metadata": {},
   "outputs": [
    {
     "name": "stdout",
     "output_type": "stream",
     "text": [
      "My name is Justin.\n",
      "Have you seen Cyberpunk Edgerunners?\n"
     ]
    }
   ],
   "source": [
    "#Q10\n",
    "i = 'My name is '\n",
    "j = 'Justin.'\n",
    "k = 'Have you seen'\n",
    "l = ' Cyberpunk Edgerunners?'\n",
    "first_sentence = i + j\n",
    "second_sentence = k + l\n",
    "print(first_sentence)\n",
    "print(second_sentence)"
   ]
  },
  {
   "cell_type": "code",
   "execution_count": 55,
   "id": "bd5804fa",
   "metadata": {},
   "outputs": [
    {
     "name": "stdout",
     "output_type": "stream",
     "text": [
      "lollollollollollollollollollollollollollollollollollollollollollollollollollollollollollollollollollollollollollollollollollollollollollollollollollollollollollollollollollollollollollollollollollollollollollollollollollollollollollollollollollollollollollollollollollollollollollollollollollollollol\n"
     ]
    }
   ],
   "source": [
    "#Bonus Task\n",
    "m = 'lol'\n",
    "print(m*100)"
   ]
  }
 ],
 "metadata": {
  "kernelspec": {
   "display_name": "Python 3 (ipykernel)",
   "language": "python",
   "name": "python3"
  },
  "language_info": {
   "codemirror_mode": {
    "name": "ipython",
    "version": 3
   },
   "file_extension": ".py",
   "mimetype": "text/x-python",
   "name": "python",
   "nbconvert_exporter": "python",
   "pygments_lexer": "ipython3",
   "version": "3.9.13"
  }
 },
 "nbformat": 4,
 "nbformat_minor": 5
}
