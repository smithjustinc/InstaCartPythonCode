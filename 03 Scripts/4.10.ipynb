{
 "cells": [
  {
   "cell_type": "markdown",
   "id": "1c79096a",
   "metadata": {},
   "source": [
    "# Contents\n",
    "Import Library\n",
    "Rename Columns\n",
    "Remove Columns\n",
    "Create Regions\n",
    "Spender Flag\n",
    "Exlusion Flag\n",
    "Income Flag\n",
    "Age Flag\n",
    "Add Department column according to Department ID\n",
    "Add Household Status Flag\n",
    "Aggregates for each Flag\n",
    "Graphs for each flag\n",
    "Export Graphs"
   ]
  },
  {
   "cell_type": "code",
   "execution_count": 1,
   "id": "f4a1abb4",
   "metadata": {},
   "outputs": [],
   "source": [
    "#import libraries\n",
    "import pandas as pd\n",
    "import numpy as np\n",
    "import os\n",
    "import matplotlib.pyplot as plt\n",
    "import seaborn as sns\n",
    "import scipy"
   ]
  },
  {
   "cell_type": "code",
   "execution_count": 2,
   "id": "9b269892",
   "metadata": {},
   "outputs": [],
   "source": [
    "#import data set\n",
    "path = r'C:\\Users\\justi\\Instacart Basket Analysis 12-22'\n",
    "df = pd.read_pickle(os.path.join(path, '02 Data', '02 Prepared Data', 'merged4_9.pkl'))"
   ]
  },
  {
   "cell_type": "code",
   "execution_count": 3,
   "id": "f2c9f395",
   "metadata": {},
   "outputs": [
    {
     "data": {
      "text/plain": [
       "(32404859, 30)"
      ]
     },
     "execution_count": 3,
     "metadata": {},
     "output_type": "execute_result"
    }
   ],
   "source": [
    "df.shape"
   ]
  },
  {
   "cell_type": "code",
   "execution_count": 4,
   "id": "71f8cf00",
   "metadata": {},
   "outputs": [
    {
     "data": {
      "text/plain": [
       "order_id                      int64\n",
       "user_id                       int64\n",
       "eval_set                     object\n",
       "order_number                  int64\n",
       "order_dow                     int64\n",
       "order_hour_of_day             int64\n",
       "days_since_prior_order      float64\n",
       "product_id                    int64\n",
       "add_to_cart_order             int64\n",
       "reordered                     int64\n",
       "product_name                 object\n",
       "aisle_id                      int64\n",
       "department_id                 int64\n",
       "prices                      float64\n",
       "_merge                     category\n",
       "max_order                     int64\n",
       "loyalty_flag                 object\n",
       "average_spent_per_order     float64\n",
       "spender_flag                 object\n",
       "median_dspo                 float64\n",
       "frequency_flag               object\n",
       "first_name                   object\n",
       "last_name                    object\n",
       "gender                       object\n",
       "state                        object\n",
       "age                           int64\n",
       "date_joined                  object\n",
       "n_dependants                  int64\n",
       "fam_status                   object\n",
       "income                        int64\n",
       "dtype: object"
      ]
     },
     "execution_count": 4,
     "metadata": {},
     "output_type": "execute_result"
    }
   ],
   "source": [
    "df.dtypes"
   ]
  },
  {
   "cell_type": "code",
   "execution_count": 5,
   "id": "f05bc8fb",
   "metadata": {},
   "outputs": [],
   "source": [
    "#rename and delete columns\n",
    "df.rename(columns = {'order_dow': 'order_day_of_week'}, inplace = True)\n",
    "df.rename(columns = {'median_dspo': 'median_days_since_prior_order'}, inplace = True)"
   ]
  },
  {
   "cell_type": "code",
   "execution_count": 6,
   "id": "7c428310",
   "metadata": {
    "scrolled": false
   },
   "outputs": [
    {
     "data": {
      "text/plain": [
       "0           both\n",
       "1           both\n",
       "2           both\n",
       "3           both\n",
       "4           both\n",
       "            ... \n",
       "32404854    both\n",
       "32404855    both\n",
       "32404856    both\n",
       "32404857    both\n",
       "32404858    both\n",
       "Name: _merge, Length: 32404859, dtype: category\n",
       "Categories (3, object): ['left_only', 'right_only', 'both']"
      ]
     },
     "execution_count": 6,
     "metadata": {},
     "output_type": "execute_result"
    }
   ],
   "source": [
    "#Not useful Data for analysis\n",
    "df.pop('eval_set')\n",
    "df.pop('_merge')"
   ]
  },
  {
   "cell_type": "code",
   "execution_count": 7,
   "id": "c1c3035c",
   "metadata": {},
   "outputs": [
    {
     "data": {
      "text/plain": [
       "0              Nguyen\n",
       "1              Nguyen\n",
       "2              Nguyen\n",
       "3              Nguyen\n",
       "4              Nguyen\n",
       "              ...    \n",
       "32404854      Manning\n",
       "32404855      Manning\n",
       "32404856        Hines\n",
       "32404857        Hines\n",
       "32404858    Carpenter\n",
       "Name: last_name, Length: 32404859, dtype: object"
      ]
     },
     "execution_count": 7,
     "metadata": {},
     "output_type": "execute_result"
    }
   ],
   "source": [
    "#Remove PII\n",
    "df.pop('first_name')\n",
    "df.pop('last_name')"
   ]
  },
  {
   "cell_type": "code",
   "execution_count": 8,
   "id": "74cbab13",
   "metadata": {},
   "outputs": [
    {
     "data": {
      "text/plain": [
       "Index(['order_id', 'user_id', 'order_number', 'order_day_of_week',\n",
       "       'order_hour_of_day', 'days_since_prior_order', 'product_id',\n",
       "       'add_to_cart_order', 'reordered', 'product_name', 'aisle_id',\n",
       "       'department_id', 'prices', 'max_order', 'loyalty_flag',\n",
       "       'average_spent_per_order', 'spender_flag',\n",
       "       'median_days_since_prior_order', 'frequency_flag', 'gender', 'state',\n",
       "       'age', 'date_joined', 'n_dependants', 'fam_status', 'income'],\n",
       "      dtype='object')"
      ]
     },
     "execution_count": 8,
     "metadata": {},
     "output_type": "execute_result"
    }
   ],
   "source": [
    "df.columns"
   ]
  },
  {
   "cell_type": "code",
   "execution_count": 9,
   "id": "c4fc822c",
   "metadata": {},
   "outputs": [],
   "source": [
    "#Create Regions\n",
    "region_ne = ['Maine', 'New Hampshire', 'Vermont', 'Massachusetts', 'Rhode Island', 'Connecticut', 'New York', 'Pennsylvania', 'New Jersey']\n",
    "region_mw = ['Wisconsin', 'Michigan', 'Illinois', 'Indiana', 'Ohio', 'North Dakota', 'South Dakota', 'Nebraska', 'Kansas', 'Minnesota', 'Iowa', 'Missouri']\n",
    "region_s = ['Delaware', 'Maryland', 'District of Columbia', 'Virginia', 'West Virginia', 'North Carolina', 'South Carolina', 'Georgia', 'Florida', 'Kentucky', 'Tennessee', 'Mississippi', 'Alabama', 'Oklahoma', 'Texas', 'Arkansas', 'Louisiana']\n",
    "region_w = ['Idaho', 'Montana', 'Wyoming', 'Nevada', 'Utah', 'Colorado', 'Arizona', 'New Mexico', 'Alaska', 'Washington', 'Oregon', 'California', 'Hawaii']\n",
    "df.loc[df['state'].isin(region_ne), 'region'] = 'Northeast'\n",
    "df.loc[df['state'].isin(region_mw), 'region'] = 'Midwest'\n",
    "df.loc[df['state'].isin(region_s), 'region'] = 'South'\n",
    "df.loc[df['state'].isin(region_w), 'region'] = 'West'"
   ]
  },
  {
   "cell_type": "code",
   "execution_count": null,
   "id": "fb622403",
   "metadata": {},
   "outputs": [],
   "source": []
  },
  {
   "cell_type": "code",
   "execution_count": 10,
   "id": "63f05b1a",
   "metadata": {},
   "outputs": [
    {
     "data": {
      "text/html": [
       "<div>\n",
       "<style scoped>\n",
       "    .dataframe tbody tr th:only-of-type {\n",
       "        vertical-align: middle;\n",
       "    }\n",
       "\n",
       "    .dataframe tbody tr th {\n",
       "        vertical-align: top;\n",
       "    }\n",
       "\n",
       "    .dataframe thead th {\n",
       "        text-align: right;\n",
       "    }\n",
       "</style>\n",
       "<table border=\"1\" class=\"dataframe\">\n",
       "  <thead>\n",
       "    <tr style=\"text-align: right;\">\n",
       "      <th>region</th>\n",
       "      <th>Midwest</th>\n",
       "      <th>Northeast</th>\n",
       "      <th>South</th>\n",
       "      <th>West</th>\n",
       "    </tr>\n",
       "    <tr>\n",
       "      <th>spender_flag</th>\n",
       "      <th></th>\n",
       "      <th></th>\n",
       "      <th></th>\n",
       "      <th></th>\n",
       "    </tr>\n",
       "  </thead>\n",
       "  <tbody>\n",
       "    <tr>\n",
       "      <th>High Spender</th>\n",
       "      <td>155975</td>\n",
       "      <td>108225</td>\n",
       "      <td>209691</td>\n",
       "      <td>160354</td>\n",
       "    </tr>\n",
       "    <tr>\n",
       "      <th>Low Spender</th>\n",
       "      <td>7441350</td>\n",
       "      <td>5614511</td>\n",
       "      <td>10582194</td>\n",
       "      <td>8132559</td>\n",
       "    </tr>\n",
       "  </tbody>\n",
       "</table>\n",
       "</div>"
      ],
      "text/plain": [
       "region        Midwest  Northeast     South     West\n",
       "spender_flag                                       \n",
       "High Spender   155975     108225    209691   160354\n",
       "Low Spender   7441350    5614511  10582194  8132559"
      ]
     },
     "execution_count": 10,
     "metadata": {},
     "output_type": "execute_result"
    }
   ],
   "source": [
    "#Difference between spending habits and different regions\n",
    "spending_habits = pd.crosstab(df['spender_flag'], df['region'], dropna = False)\n",
    "spending_habits"
   ]
  },
  {
   "cell_type": "code",
   "execution_count": 11,
   "id": "10ba4a4d",
   "metadata": {},
   "outputs": [
    {
     "data": {
      "text/plain": [
       "High Activity    30964564\n",
       "Low Activity      1440295\n",
       "Name: activity_flag, dtype: int64"
      ]
     },
     "execution_count": 11,
     "metadata": {},
     "output_type": "execute_result"
    }
   ],
   "source": [
    "#Q4 Create exclusion flag\n",
    "df.loc[df['max_order'] >= 5, 'activity_flag'] = 'High Activity'\n",
    "df.loc[df['max_order'] < 5, 'activity_flag'] = 'Low Activity'\n",
    "df['activity_flag'].value_counts(dropna = False)"
   ]
  },
  {
   "cell_type": "code",
   "execution_count": 12,
   "id": "f67ce2ab",
   "metadata": {},
   "outputs": [],
   "source": [
    "#exclude low Activity customers\n",
    "high_activity_df = df[df.activity_flag != 'Low Activity']"
   ]
  },
  {
   "cell_type": "code",
   "execution_count": 13,
   "id": "da11f8fb",
   "metadata": {},
   "outputs": [
    {
     "data": {
      "text/plain": [
       "High Activity    30964564\n",
       "Name: activity_flag, dtype: int64"
      ]
     },
     "execution_count": 13,
     "metadata": {},
     "output_type": "execute_result"
    }
   ],
   "source": [
    "high_activity_df.activity_flag.value_counts()"
   ]
  },
  {
   "cell_type": "code",
   "execution_count": 14,
   "id": "4a7fb259",
   "metadata": {},
   "outputs": [],
   "source": [
    "high_activity_df.to_pickle(os.path.join(path, '02 Data', '02 Prepared Data', 'high_activity_df.pkl'))"
   ]
  },
  {
   "cell_type": "code",
   "execution_count": 15,
   "id": "70b85752",
   "metadata": {},
   "outputs": [],
   "source": [
    "#Q5 Create profile variables"
   ]
  },
  {
   "cell_type": "code",
   "execution_count": 16,
   "id": "e7d7d330",
   "metadata": {},
   "outputs": [
    {
     "data": {
      "text/plain": [
       "count    3.240486e+07\n",
       "mean     9.943773e+04\n",
       "std      4.305727e+04\n",
       "min      2.590300e+04\n",
       "25%      6.700400e+04\n",
       "50%      9.661800e+04\n",
       "75%      1.279120e+05\n",
       "max      5.939010e+05\n",
       "Name: income, dtype: float64"
      ]
     },
     "execution_count": 16,
     "metadata": {},
     "output_type": "execute_result"
    }
   ],
   "source": [
    "#Profile based on income\n",
    "df['income'].describe()"
   ]
  },
  {
   "cell_type": "code",
   "execution_count": 17,
   "id": "492b1c59",
   "metadata": {},
   "outputs": [],
   "source": [
    "df.loc[(df['income'] >= 0) & (df['income'] < 30000), 'income_category'] = 'lowest'\n",
    "df.loc[(df['income'] >= 30000) & (df['income'] < 50000), 'income_category'] = 'lower_middle'\n",
    "df.loc[(df['income'] >= 50000) & (df['income'] < 100000), 'income_category'] = 'middle'\n",
    "df.loc[(df['income'] >= 100000) & (df['income'] < 350000), 'income_category'] = 'upper_middle'\n",
    "df.loc[df['income'] >= 350000, 'income_category'] = 'Rich'"
   ]
  },
  {
   "cell_type": "code",
   "execution_count": 18,
   "id": "ab85818d",
   "metadata": {},
   "outputs": [
    {
     "data": {
      "text/plain": [
       "upper_middle    14740409\n",
       "middle          13996010\n",
       "lower_middle     3386996\n",
       "lowest            207087\n",
       "Rich               74357\n",
       "Name: income_category, dtype: int64"
      ]
     },
     "execution_count": 18,
     "metadata": {},
     "output_type": "execute_result"
    }
   ],
   "source": [
    "df.income_category.value_counts()"
   ]
  },
  {
   "cell_type": "code",
   "execution_count": 19,
   "id": "42c70a77",
   "metadata": {},
   "outputs": [
    {
     "data": {
      "text/plain": [
       "count    3.240486e+07\n",
       "mean     4.946527e+01\n",
       "std      1.848558e+01\n",
       "min      1.800000e+01\n",
       "25%      3.300000e+01\n",
       "50%      4.900000e+01\n",
       "75%      6.500000e+01\n",
       "max      8.100000e+01\n",
       "Name: age, dtype: float64"
      ]
     },
     "execution_count": 19,
     "metadata": {},
     "output_type": "execute_result"
    }
   ],
   "source": [
    "df['age'].describe()"
   ]
  },
  {
   "cell_type": "code",
   "execution_count": 20,
   "id": "29a04dff",
   "metadata": {},
   "outputs": [],
   "source": [
    "#profile based on age\n",
    "df.loc[(df['age'] >= 18) & (df['age'] < 24), 'age_category'] = 'college_age_adult'\n",
    "df.loc[(df['age'] >= 24) & (df['age'] < 35), 'age_category'] = 'young_adult'\n",
    "df.loc[(df['age'] >= 35) & (df['age'] < 50), 'age_category'] = 'middle_age_adult'\n",
    "df.loc[(df['age'] >= 50) & (df['age'] < 65), 'age_category'] = 'Senior Middle Age'\n",
    "df.loc[df['age'] >= 65, 'age_category'] = 'Senior'"
   ]
  },
  {
   "cell_type": "code",
   "execution_count": 21,
   "id": "73175835",
   "metadata": {},
   "outputs": [
    {
     "data": {
      "text/plain": [
       "Senior               8575084\n",
       "middle_age_adult     7645774\n",
       "Senior Middle Age    7556346\n",
       "young_adult          5563716\n",
       "college_age_adult    3063939\n",
       "Name: age_category, dtype: int64"
      ]
     },
     "execution_count": 21,
     "metadata": {},
     "output_type": "execute_result"
    }
   ],
   "source": [
    "df.age_category.value_counts()"
   ]
  },
  {
   "cell_type": "code",
   "execution_count": 22,
   "id": "d0d2c8de",
   "metadata": {},
   "outputs": [],
   "source": [
    "#profile based on department_id\n",
    "dep_dictionary = {1: 'frozen',\n",
    " 2: 'other',\n",
    " 3: 'bakery',\n",
    " 4: 'produce',\n",
    " 5: 'alcohol',\n",
    " 6: 'international',\n",
    " 7: 'beverages',\n",
    " 8: 'pets',\n",
    " 9: 'dry goods pasta',\n",
    " 10: 'bulk',\n",
    " 11: 'personal care',\n",
    " 12: 'meat seafood',\n",
    " 13: 'pantry',\n",
    " 14: 'breakfast',\n",
    " 15: 'canned goods',\n",
    " 16: 'dairy eggs',\n",
    " 17: 'household',\n",
    " 18: 'babies',\n",
    " 19: 'snacks',\n",
    " 20: 'deli',\n",
    " 21: 'missing'}\n",
    "df['department'] = df['department_id'].map(dep_dictionary)"
   ]
  },
  {
   "cell_type": "code",
   "execution_count": 23,
   "id": "d69068ae",
   "metadata": {},
   "outputs": [
    {
     "data": {
      "text/plain": [
       "produce            9479291\n",
       "dairy eggs         5398747\n",
       "snacks             2887550\n",
       "beverages          2688123\n",
       "frozen             2234743\n",
       "pantry             1875369\n",
       "bakery             1172428\n",
       "canned goods       1068058\n",
       "deli               1051249\n",
       "dry goods pasta     866627\n",
       "household           738666\n",
       "meat seafood        708927\n",
       "breakfast           703033\n",
       "personal care       447572\n",
       "babies              423802\n",
       "international       269253\n",
       "alcohol             153696\n",
       "pets                 97716\n",
       "missing              69145\n",
       "other                36291\n",
       "bulk                 34573\n",
       "Name: department, dtype: int64"
      ]
     },
     "execution_count": 23,
     "metadata": {},
     "output_type": "execute_result"
    }
   ],
   "source": [
    "df.department.value_counts()"
   ]
  },
  {
   "cell_type": "code",
   "execution_count": 24,
   "id": "3eb0255e",
   "metadata": {},
   "outputs": [],
   "source": [
    "#profile based on number of dependents\n",
    "df.loc[df['n_dependants'] <= 0, 'household_status'] = 'No Dependents'\n",
    "df.loc[df['n_dependants'] > 0, 'household_status'] = 'Has Dependents'"
   ]
  },
  {
   "cell_type": "code",
   "execution_count": 25,
   "id": "de4a0139",
   "metadata": {},
   "outputs": [
    {
     "data": {
      "text/plain": [
       "Has Dependents    24307356\n",
       "No Dependents      8097503\n",
       "Name: household_status, dtype: int64"
      ]
     },
     "execution_count": 25,
     "metadata": {},
     "output_type": "execute_result"
    }
   ],
   "source": [
    "df.household_status.value_counts()"
   ]
  },
  {
   "cell_type": "code",
   "execution_count": 26,
   "id": "0bd782fd",
   "metadata": {
    "scrolled": true
   },
   "outputs": [
    {
     "data": {
      "image/png": "[encoded data removed]",
      "text/plain": [
       "<Figure size 640x480 with 1 Axes>"
      ]
     },
     "metadata": {},
     "output_type": "display_data"
    }
   ],
   "source": [
    "#pie chart of household status\n",
    "household_status_pie = df['household_status'].value_counts().plot.pie(labels=['Has Dependents', 'No Dependents'], autopct=('%1.f%%'), colors=['green', 'purple'])"
   ]
  },
  {
   "cell_type": "code",
   "execution_count": 62,
   "id": "c74eadcb",
   "metadata": {},
   "outputs": [],
   "source": [
    "household_status_pie.figure.savefig(os.path.join(path, '04 Analysis', 'Visualizations', 'household_status_pie.png'))"
   ]
  },
  {
   "cell_type": "code",
   "execution_count": 27,
   "id": "0f69760a",
   "metadata": {},
   "outputs": [
    {
     "data": {
      "image/png": "[encoded data removed]",
      "text/plain": [
       "<Figure size 640x480 with 1 Axes>"
      ]
     },
     "metadata": {},
     "output_type": "display_data"
    }
   ],
   "source": [
    "age_category_bar = df['age_category'].value_counts().sort_index().plot.bar()"
   ]
  },
  {
   "cell_type": "code",
   "execution_count": 63,
   "id": "1db260a5",
   "metadata": {},
   "outputs": [],
   "source": [
    "age_category_bar.figure.savefig(os.path.join(path, '04 Analysis', 'Visualizations', 'age_category_bar.png'))"
   ]
  },
  {
   "cell_type": "code",
   "execution_count": 28,
   "id": "81f66a2c",
   "metadata": {},
   "outputs": [
    {
     "data": {
      "image/png": "[encoded data removed]",
      "text/plain": [
       "<Figure size 640x480 with 1 Axes>"
      ]
     },
     "metadata": {},
     "output_type": "display_data"
    }
   ],
   "source": [
    "income_category_bar = df['income_category'].value_counts().plot.bar()"
   ]
  },
  {
   "cell_type": "code",
   "execution_count": 64,
   "id": "4e2c2504",
   "metadata": {},
   "outputs": [],
   "source": [
    "income_category_bar.figure.savefig(os.path.join(path, '04 Analysis', 'Visualizations', 'income_category_bar.png'))"
   ]
  },
  {
   "cell_type": "code",
   "execution_count": 29,
   "id": "4689ecab",
   "metadata": {},
   "outputs": [
    {
     "data": {
      "image/png": "[encoded data removed]",
      "text/plain": [
       "<Figure size 640x480 with 1 Axes>"
      ]
     },
     "metadata": {},
     "output_type": "display_data"
    }
   ],
   "source": [
    "departments_bar = df['department'].value_counts().plot.bar()"
   ]
  },
  {
   "cell_type": "code",
   "execution_count": 65,
   "id": "ca25a800",
   "metadata": {},
   "outputs": [],
   "source": [
    "departments_bar.figure.savefig(os.path.join(path, '04 Analysis', 'Visualizations', 'departments_bar.png'))"
   ]
  },
  {
   "cell_type": "code",
   "execution_count": 30,
   "id": "0cfa3029",
   "metadata": {},
   "outputs": [
    {
     "data": {
      "text/html": [
       "<div>\n",
       "<style scoped>\n",
       "    .dataframe tbody tr th:only-of-type {\n",
       "        vertical-align: middle;\n",
       "    }\n",
       "\n",
       "    .dataframe tbody tr th {\n",
       "        vertical-align: top;\n",
       "    }\n",
       "\n",
       "    .dataframe thead tr th {\n",
       "        text-align: left;\n",
       "    }\n",
       "\n",
       "    .dataframe thead tr:last-of-type th {\n",
       "        text-align: right;\n",
       "    }\n",
       "</style>\n",
       "<table border=\"1\" class=\"dataframe\">\n",
       "  <thead>\n",
       "    <tr>\n",
       "      <th></th>\n",
       "      <th colspan=\"3\" halign=\"left\">days_since_prior_order</th>\n",
       "    </tr>\n",
       "    <tr>\n",
       "      <th></th>\n",
       "      <th>mean</th>\n",
       "      <th>min</th>\n",
       "      <th>max</th>\n",
       "    </tr>\n",
       "    <tr>\n",
       "      <th>household_status</th>\n",
       "      <th></th>\n",
       "      <th></th>\n",
       "      <th></th>\n",
       "    </tr>\n",
       "  </thead>\n",
       "  <tbody>\n",
       "    <tr>\n",
       "      <th>Has Dependents</th>\n",
       "      <td>11.111834</td>\n",
       "      <td>0.0</td>\n",
       "      <td>30.0</td>\n",
       "    </tr>\n",
       "    <tr>\n",
       "      <th>No Dependents</th>\n",
       "      <td>11.080805</td>\n",
       "      <td>0.0</td>\n",
       "      <td>30.0</td>\n",
       "    </tr>\n",
       "  </tbody>\n",
       "</table>\n",
       "</div>"
      ],
      "text/plain": [
       "                 days_since_prior_order           \n",
       "                                   mean  min   max\n",
       "household_status                                  \n",
       "Has Dependents                11.111834  0.0  30.0\n",
       "No Dependents                 11.080805  0.0  30.0"
      ]
     },
     "execution_count": 30,
     "metadata": {},
     "output_type": "execute_result"
    }
   ],
   "source": [
    "#Max, min, mean for profiles for usage frequency and expenditure\n",
    "household_status_usage_agg = df.groupby('household_status').agg({'days_since_prior_order':['mean', 'min','max']})\n",
    "household_status_usage_agg"
   ]
  },
  {
   "cell_type": "code",
   "execution_count": 31,
   "id": "98e86ff5",
   "metadata": {},
   "outputs": [
    {
     "data": {
      "text/html": [
       "<div>\n",
       "<style scoped>\n",
       "    .dataframe tbody tr th:only-of-type {\n",
       "        vertical-align: middle;\n",
       "    }\n",
       "\n",
       "    .dataframe tbody tr th {\n",
       "        vertical-align: top;\n",
       "    }\n",
       "\n",
       "    .dataframe thead tr th {\n",
       "        text-align: left;\n",
       "    }\n",
       "\n",
       "    .dataframe thead tr:last-of-type th {\n",
       "        text-align: right;\n",
       "    }\n",
       "</style>\n",
       "<table border=\"1\" class=\"dataframe\">\n",
       "  <thead>\n",
       "    <tr>\n",
       "      <th></th>\n",
       "      <th colspan=\"3\" halign=\"left\">days_since_prior_order</th>\n",
       "    </tr>\n",
       "    <tr>\n",
       "      <th></th>\n",
       "      <th>mean</th>\n",
       "      <th>min</th>\n",
       "      <th>max</th>\n",
       "    </tr>\n",
       "    <tr>\n",
       "      <th>age_category</th>\n",
       "      <th></th>\n",
       "      <th></th>\n",
       "      <th></th>\n",
       "    </tr>\n",
       "  </thead>\n",
       "  <tbody>\n",
       "    <tr>\n",
       "      <th>Senior</th>\n",
       "      <td>11.078641</td>\n",
       "      <td>0.0</td>\n",
       "      <td>30.0</td>\n",
       "    </tr>\n",
       "    <tr>\n",
       "      <th>Senior Middle Age</th>\n",
       "      <td>11.131707</td>\n",
       "      <td>0.0</td>\n",
       "      <td>30.0</td>\n",
       "    </tr>\n",
       "    <tr>\n",
       "      <th>college_age_adult</th>\n",
       "      <td>11.030165</td>\n",
       "      <td>0.0</td>\n",
       "      <td>30.0</td>\n",
       "    </tr>\n",
       "    <tr>\n",
       "      <th>middle_age_adult</th>\n",
       "      <td>11.086507</td>\n",
       "      <td>0.0</td>\n",
       "      <td>30.0</td>\n",
       "    </tr>\n",
       "    <tr>\n",
       "      <th>young_adult</th>\n",
       "      <td>11.170663</td>\n",
       "      <td>0.0</td>\n",
       "      <td>30.0</td>\n",
       "    </tr>\n",
       "  </tbody>\n",
       "</table>\n",
       "</div>"
      ],
      "text/plain": [
       "                  days_since_prior_order           \n",
       "                                    mean  min   max\n",
       "age_category                                       \n",
       "Senior                         11.078641  0.0  30.0\n",
       "Senior Middle Age              11.131707  0.0  30.0\n",
       "college_age_adult              11.030165  0.0  30.0\n",
       "middle_age_adult               11.086507  0.0  30.0\n",
       "young_adult                    11.170663  0.0  30.0"
      ]
     },
     "execution_count": 31,
     "metadata": {},
     "output_type": "execute_result"
    }
   ],
   "source": [
    "age_usage_category_agg = df.groupby('age_category').agg({'days_since_prior_order':['mean', 'min','max']})\n",
    "age_usage_category_agg"
   ]
  },
  {
   "cell_type": "code",
   "execution_count": 32,
   "id": "dc0bfb2c",
   "metadata": {},
   "outputs": [
    {
     "data": {
      "text/html": [
       "<div>\n",
       "<style scoped>\n",
       "    .dataframe tbody tr th:only-of-type {\n",
       "        vertical-align: middle;\n",
       "    }\n",
       "\n",
       "    .dataframe tbody tr th {\n",
       "        vertical-align: top;\n",
       "    }\n",
       "\n",
       "    .dataframe thead tr th {\n",
       "        text-align: left;\n",
       "    }\n",
       "\n",
       "    .dataframe thead tr:last-of-type th {\n",
       "        text-align: right;\n",
       "    }\n",
       "</style>\n",
       "<table border=\"1\" class=\"dataframe\">\n",
       "  <thead>\n",
       "    <tr>\n",
       "      <th></th>\n",
       "      <th colspan=\"3\" halign=\"left\">days_since_prior_order</th>\n",
       "    </tr>\n",
       "    <tr>\n",
       "      <th></th>\n",
       "      <th>mean</th>\n",
       "      <th>min</th>\n",
       "      <th>max</th>\n",
       "    </tr>\n",
       "    <tr>\n",
       "      <th>income_category</th>\n",
       "      <th></th>\n",
       "      <th></th>\n",
       "      <th></th>\n",
       "    </tr>\n",
       "  </thead>\n",
       "  <tbody>\n",
       "    <tr>\n",
       "      <th>Rich</th>\n",
       "      <td>10.316866</td>\n",
       "      <td>0.0</td>\n",
       "      <td>30.0</td>\n",
       "    </tr>\n",
       "    <tr>\n",
       "      <th>lower_middle</th>\n",
       "      <td>11.563846</td>\n",
       "      <td>0.0</td>\n",
       "      <td>30.0</td>\n",
       "    </tr>\n",
       "    <tr>\n",
       "      <th>lowest</th>\n",
       "      <td>11.970702</td>\n",
       "      <td>0.0</td>\n",
       "      <td>30.0</td>\n",
       "    </tr>\n",
       "    <tr>\n",
       "      <th>middle</th>\n",
       "      <td>11.049326</td>\n",
       "      <td>0.0</td>\n",
       "      <td>30.0</td>\n",
       "    </tr>\n",
       "    <tr>\n",
       "      <th>upper_middle</th>\n",
       "      <td>11.043553</td>\n",
       "      <td>0.0</td>\n",
       "      <td>30.0</td>\n",
       "    </tr>\n",
       "  </tbody>\n",
       "</table>\n",
       "</div>"
      ],
      "text/plain": [
       "                days_since_prior_order           \n",
       "                                  mean  min   max\n",
       "income_category                                  \n",
       "Rich                         10.316866  0.0  30.0\n",
       "lower_middle                 11.563846  0.0  30.0\n",
       "lowest                       11.970702  0.0  30.0\n",
       "middle                       11.049326  0.0  30.0\n",
       "upper_middle                 11.043553  0.0  30.0"
      ]
     },
     "execution_count": 32,
     "metadata": {},
     "output_type": "execute_result"
    }
   ],
   "source": [
    "income_usage_category_agg = df.groupby('income_category').agg({'days_since_prior_order':['mean', 'min','max']})\n",
    "income_usage_category_agg"
   ]
  },
  {
   "cell_type": "code",
   "execution_count": 33,
   "id": "b9ba3721",
   "metadata": {},
   "outputs": [
    {
     "data": {
      "text/html": [
       "<div>\n",
       "<style scoped>\n",
       "    .dataframe tbody tr th:only-of-type {\n",
       "        vertical-align: middle;\n",
       "    }\n",
       "\n",
       "    .dataframe tbody tr th {\n",
       "        vertical-align: top;\n",
       "    }\n",
       "\n",
       "    .dataframe thead tr th {\n",
       "        text-align: left;\n",
       "    }\n",
       "\n",
       "    .dataframe thead tr:last-of-type th {\n",
       "        text-align: right;\n",
       "    }\n",
       "</style>\n",
       "<table border=\"1\" class=\"dataframe\">\n",
       "  <thead>\n",
       "    <tr>\n",
       "      <th></th>\n",
       "      <th colspan=\"3\" halign=\"left\">days_since_prior_order</th>\n",
       "    </tr>\n",
       "    <tr>\n",
       "      <th></th>\n",
       "      <th>mean</th>\n",
       "      <th>min</th>\n",
       "      <th>max</th>\n",
       "    </tr>\n",
       "    <tr>\n",
       "      <th>department</th>\n",
       "      <th></th>\n",
       "      <th></th>\n",
       "      <th></th>\n",
       "    </tr>\n",
       "  </thead>\n",
       "  <tbody>\n",
       "    <tr>\n",
       "      <th>alcohol</th>\n",
       "      <td>10.340887</td>\n",
       "      <td>0.0</td>\n",
       "      <td>30.0</td>\n",
       "    </tr>\n",
       "    <tr>\n",
       "      <th>babies</th>\n",
       "      <td>10.004465</td>\n",
       "      <td>0.0</td>\n",
       "      <td>30.0</td>\n",
       "    </tr>\n",
       "    <tr>\n",
       "      <th>bakery</th>\n",
       "      <td>11.097613</td>\n",
       "      <td>0.0</td>\n",
       "      <td>30.0</td>\n",
       "    </tr>\n",
       "    <tr>\n",
       "      <th>beverages</th>\n",
       "      <td>11.053389</td>\n",
       "      <td>0.0</td>\n",
       "      <td>30.0</td>\n",
       "    </tr>\n",
       "    <tr>\n",
       "      <th>breakfast</th>\n",
       "      <td>11.296101</td>\n",
       "      <td>0.0</td>\n",
       "      <td>30.0</td>\n",
       "    </tr>\n",
       "    <tr>\n",
       "      <th>bulk</th>\n",
       "      <td>10.104230</td>\n",
       "      <td>0.0</td>\n",
       "      <td>30.0</td>\n",
       "    </tr>\n",
       "    <tr>\n",
       "      <th>canned goods</th>\n",
       "      <td>11.656079</td>\n",
       "      <td>0.0</td>\n",
       "      <td>30.0</td>\n",
       "    </tr>\n",
       "    <tr>\n",
       "      <th>dairy eggs</th>\n",
       "      <td>10.986054</td>\n",
       "      <td>0.0</td>\n",
       "      <td>30.0</td>\n",
       "    </tr>\n",
       "    <tr>\n",
       "      <th>deli</th>\n",
       "      <td>11.345655</td>\n",
       "      <td>0.0</td>\n",
       "      <td>30.0</td>\n",
       "    </tr>\n",
       "    <tr>\n",
       "      <th>dry goods pasta</th>\n",
       "      <td>11.774450</td>\n",
       "      <td>0.0</td>\n",
       "      <td>30.0</td>\n",
       "    </tr>\n",
       "    <tr>\n",
       "      <th>frozen</th>\n",
       "      <td>11.730829</td>\n",
       "      <td>0.0</td>\n",
       "      <td>30.0</td>\n",
       "    </tr>\n",
       "    <tr>\n",
       "      <th>household</th>\n",
       "      <td>11.996490</td>\n",
       "      <td>0.0</td>\n",
       "      <td>30.0</td>\n",
       "    </tr>\n",
       "    <tr>\n",
       "      <th>international</th>\n",
       "      <td>11.291251</td>\n",
       "      <td>0.0</td>\n",
       "      <td>30.0</td>\n",
       "    </tr>\n",
       "    <tr>\n",
       "      <th>meat seafood</th>\n",
       "      <td>11.432021</td>\n",
       "      <td>0.0</td>\n",
       "      <td>30.0</td>\n",
       "    </tr>\n",
       "    <tr>\n",
       "      <th>missing</th>\n",
       "      <td>10.218559</td>\n",
       "      <td>0.0</td>\n",
       "      <td>30.0</td>\n",
       "    </tr>\n",
       "    <tr>\n",
       "      <th>other</th>\n",
       "      <td>10.952867</td>\n",
       "      <td>0.0</td>\n",
       "      <td>30.0</td>\n",
       "    </tr>\n",
       "    <tr>\n",
       "      <th>pantry</th>\n",
       "      <td>11.163256</td>\n",
       "      <td>0.0</td>\n",
       "      <td>30.0</td>\n",
       "    </tr>\n",
       "    <tr>\n",
       "      <th>personal care</th>\n",
       "      <td>11.593145</td>\n",
       "      <td>0.0</td>\n",
       "      <td>30.0</td>\n",
       "    </tr>\n",
       "    <tr>\n",
       "      <th>pets</th>\n",
       "      <td>11.867322</td>\n",
       "      <td>0.0</td>\n",
       "      <td>30.0</td>\n",
       "    </tr>\n",
       "    <tr>\n",
       "      <th>produce</th>\n",
       "      <td>10.856212</td>\n",
       "      <td>0.0</td>\n",
       "      <td>30.0</td>\n",
       "    </tr>\n",
       "    <tr>\n",
       "      <th>snacks</th>\n",
       "      <td>10.947879</td>\n",
       "      <td>0.0</td>\n",
       "      <td>30.0</td>\n",
       "    </tr>\n",
       "  </tbody>\n",
       "</table>\n",
       "</div>"
      ],
      "text/plain": [
       "                days_since_prior_order           \n",
       "                                  mean  min   max\n",
       "department                                       \n",
       "alcohol                      10.340887  0.0  30.0\n",
       "babies                       10.004465  0.0  30.0\n",
       "bakery                       11.097613  0.0  30.0\n",
       "beverages                    11.053389  0.0  30.0\n",
       "breakfast                    11.296101  0.0  30.0\n",
       "bulk                         10.104230  0.0  30.0\n",
       "canned goods                 11.656079  0.0  30.0\n",
       "dairy eggs                   10.986054  0.0  30.0\n",
       "deli                         11.345655  0.0  30.0\n",
       "dry goods pasta              11.774450  0.0  30.0\n",
       "frozen                       11.730829  0.0  30.0\n",
       "household                    11.996490  0.0  30.0\n",
       "international                11.291251  0.0  30.0\n",
       "meat seafood                 11.432021  0.0  30.0\n",
       "missing                      10.218559  0.0  30.0\n",
       "other                        10.952867  0.0  30.0\n",
       "pantry                       11.163256  0.0  30.0\n",
       "personal care                11.593145  0.0  30.0\n",
       "pets                         11.867322  0.0  30.0\n",
       "produce                      10.856212  0.0  30.0\n",
       "snacks                       10.947879  0.0  30.0"
      ]
     },
     "execution_count": 33,
     "metadata": {},
     "output_type": "execute_result"
    }
   ],
   "source": [
    "dep_usage_category_agg = df.groupby('department').agg({'days_since_prior_order':['mean', 'min','max']})\n",
    "dep_usage_category_agg"
   ]
  },
  {
   "cell_type": "code",
   "execution_count": 34,
   "id": "b0d29433",
   "metadata": {},
   "outputs": [
    {
     "data": {
      "text/html": [
       "<div>\n",
       "<style scoped>\n",
       "    .dataframe tbody tr th:only-of-type {\n",
       "        vertical-align: middle;\n",
       "    }\n",
       "\n",
       "    .dataframe tbody tr th {\n",
       "        vertical-align: top;\n",
       "    }\n",
       "\n",
       "    .dataframe thead tr th {\n",
       "        text-align: left;\n",
       "    }\n",
       "\n",
       "    .dataframe thead tr:last-of-type th {\n",
       "        text-align: right;\n",
       "    }\n",
       "</style>\n",
       "<table border=\"1\" class=\"dataframe\">\n",
       "  <thead>\n",
       "    <tr>\n",
       "      <th></th>\n",
       "      <th colspan=\"3\" halign=\"left\">prices</th>\n",
       "    </tr>\n",
       "    <tr>\n",
       "      <th></th>\n",
       "      <th>mean</th>\n",
       "      <th>min</th>\n",
       "      <th>max</th>\n",
       "    </tr>\n",
       "    <tr>\n",
       "      <th>household_status</th>\n",
       "      <th></th>\n",
       "      <th></th>\n",
       "      <th></th>\n",
       "    </tr>\n",
       "  </thead>\n",
       "  <tbody>\n",
       "    <tr>\n",
       "      <th>Has Dependents</th>\n",
       "      <td>11.930584</td>\n",
       "      <td>1.0</td>\n",
       "      <td>99999.0</td>\n",
       "    </tr>\n",
       "    <tr>\n",
       "      <th>No Dependents</th>\n",
       "      <td>12.129243</td>\n",
       "      <td>1.0</td>\n",
       "      <td>99999.0</td>\n",
       "    </tr>\n",
       "  </tbody>\n",
       "</table>\n",
       "</div>"
      ],
      "text/plain": [
       "                     prices              \n",
       "                       mean  min      max\n",
       "household_status                         \n",
       "Has Dependents    11.930584  1.0  99999.0\n",
       "No Dependents     12.129243  1.0  99999.0"
      ]
     },
     "execution_count": 34,
     "metadata": {},
     "output_type": "execute_result"
    }
   ],
   "source": [
    "household_status_exp_agg = df.groupby('household_status').agg({'prices':['mean', 'min','max']})\n",
    "household_status_exp_agg"
   ]
  },
  {
   "cell_type": "code",
   "execution_count": 35,
   "id": "29f0d7bf",
   "metadata": {},
   "outputs": [
    {
     "data": {
      "text/html": [
       "<div>\n",
       "<style scoped>\n",
       "    .dataframe tbody tr th:only-of-type {\n",
       "        vertical-align: middle;\n",
       "    }\n",
       "\n",
       "    .dataframe tbody tr th {\n",
       "        vertical-align: top;\n",
       "    }\n",
       "\n",
       "    .dataframe thead tr th {\n",
       "        text-align: left;\n",
       "    }\n",
       "\n",
       "    .dataframe thead tr:last-of-type th {\n",
       "        text-align: right;\n",
       "    }\n",
       "</style>\n",
       "<table border=\"1\" class=\"dataframe\">\n",
       "  <thead>\n",
       "    <tr>\n",
       "      <th></th>\n",
       "      <th colspan=\"3\" halign=\"left\">prices</th>\n",
       "    </tr>\n",
       "    <tr>\n",
       "      <th></th>\n",
       "      <th>mean</th>\n",
       "      <th>min</th>\n",
       "      <th>max</th>\n",
       "    </tr>\n",
       "    <tr>\n",
       "      <th>department</th>\n",
       "      <th></th>\n",
       "      <th></th>\n",
       "      <th></th>\n",
       "    </tr>\n",
       "  </thead>\n",
       "  <tbody>\n",
       "    <tr>\n",
       "      <th>alcohol</th>\n",
       "      <td>8.143701</td>\n",
       "      <td>1.0</td>\n",
       "      <td>15.0</td>\n",
       "    </tr>\n",
       "    <tr>\n",
       "      <th>babies</th>\n",
       "      <td>7.638380</td>\n",
       "      <td>1.0</td>\n",
       "      <td>15.0</td>\n",
       "    </tr>\n",
       "    <tr>\n",
       "      <th>bakery</th>\n",
       "      <td>7.853809</td>\n",
       "      <td>1.0</td>\n",
       "      <td>15.0</td>\n",
       "    </tr>\n",
       "    <tr>\n",
       "      <th>beverages</th>\n",
       "      <td>7.680502</td>\n",
       "      <td>1.0</td>\n",
       "      <td>15.0</td>\n",
       "    </tr>\n",
       "    <tr>\n",
       "      <th>breakfast</th>\n",
       "      <td>8.028963</td>\n",
       "      <td>1.0</td>\n",
       "      <td>14.9</td>\n",
       "    </tr>\n",
       "    <tr>\n",
       "      <th>bulk</th>\n",
       "      <td>8.348960</td>\n",
       "      <td>1.4</td>\n",
       "      <td>14.1</td>\n",
       "    </tr>\n",
       "    <tr>\n",
       "      <th>canned goods</th>\n",
       "      <td>7.539976</td>\n",
       "      <td>1.0</td>\n",
       "      <td>15.0</td>\n",
       "    </tr>\n",
       "    <tr>\n",
       "      <th>dairy eggs</th>\n",
       "      <td>33.479533</td>\n",
       "      <td>1.0</td>\n",
       "      <td>99999.0</td>\n",
       "    </tr>\n",
       "    <tr>\n",
       "      <th>deli</th>\n",
       "      <td>7.778701</td>\n",
       "      <td>1.0</td>\n",
       "      <td>15.0</td>\n",
       "    </tr>\n",
       "    <tr>\n",
       "      <th>dry goods pasta</th>\n",
       "      <td>7.350283</td>\n",
       "      <td>1.0</td>\n",
       "      <td>15.0</td>\n",
       "    </tr>\n",
       "    <tr>\n",
       "      <th>frozen</th>\n",
       "      <td>7.736553</td>\n",
       "      <td>1.0</td>\n",
       "      <td>15.0</td>\n",
       "    </tr>\n",
       "    <tr>\n",
       "      <th>household</th>\n",
       "      <td>7.384058</td>\n",
       "      <td>1.0</td>\n",
       "      <td>15.0</td>\n",
       "    </tr>\n",
       "    <tr>\n",
       "      <th>international</th>\n",
       "      <td>7.682264</td>\n",
       "      <td>1.0</td>\n",
       "      <td>15.0</td>\n",
       "    </tr>\n",
       "    <tr>\n",
       "      <th>meat seafood</th>\n",
       "      <td>16.294443</td>\n",
       "      <td>8.0</td>\n",
       "      <td>25.0</td>\n",
       "    </tr>\n",
       "    <tr>\n",
       "      <th>missing</th>\n",
       "      <td>8.660716</td>\n",
       "      <td>1.0</td>\n",
       "      <td>15.0</td>\n",
       "    </tr>\n",
       "    <tr>\n",
       "      <th>other</th>\n",
       "      <td>6.990934</td>\n",
       "      <td>1.1</td>\n",
       "      <td>15.0</td>\n",
       "    </tr>\n",
       "    <tr>\n",
       "      <th>pantry</th>\n",
       "      <td>8.009443</td>\n",
       "      <td>1.0</td>\n",
       "      <td>20.0</td>\n",
       "    </tr>\n",
       "    <tr>\n",
       "      <th>personal care</th>\n",
       "      <td>7.996769</td>\n",
       "      <td>1.0</td>\n",
       "      <td>15.0</td>\n",
       "    </tr>\n",
       "    <tr>\n",
       "      <th>pets</th>\n",
       "      <td>7.889070</td>\n",
       "      <td>1.0</td>\n",
       "      <td>15.0</td>\n",
       "    </tr>\n",
       "    <tr>\n",
       "      <th>produce</th>\n",
       "      <td>7.981708</td>\n",
       "      <td>1.0</td>\n",
       "      <td>15.0</td>\n",
       "    </tr>\n",
       "    <tr>\n",
       "      <th>snacks</th>\n",
       "      <td>4.275437</td>\n",
       "      <td>1.6</td>\n",
       "      <td>7.0</td>\n",
       "    </tr>\n",
       "  </tbody>\n",
       "</table>\n",
       "</div>"
      ],
      "text/plain": [
       "                    prices              \n",
       "                      mean  min      max\n",
       "department                              \n",
       "alcohol           8.143701  1.0     15.0\n",
       "babies            7.638380  1.0     15.0\n",
       "bakery            7.853809  1.0     15.0\n",
       "beverages         7.680502  1.0     15.0\n",
       "breakfast         8.028963  1.0     14.9\n",
       "bulk              8.348960  1.4     14.1\n",
       "canned goods      7.539976  1.0     15.0\n",
       "dairy eggs       33.479533  1.0  99999.0\n",
       "deli              7.778701  1.0     15.0\n",
       "dry goods pasta   7.350283  1.0     15.0\n",
       "frozen            7.736553  1.0     15.0\n",
       "household         7.384058  1.0     15.0\n",
       "international     7.682264  1.0     15.0\n",
       "meat seafood     16.294443  8.0     25.0\n",
       "missing           8.660716  1.0     15.0\n",
       "other             6.990934  1.1     15.0\n",
       "pantry            8.009443  1.0     20.0\n",
       "personal care     7.996769  1.0     15.0\n",
       "pets              7.889070  1.0     15.0\n",
       "produce           7.981708  1.0     15.0\n",
       "snacks            4.275437  1.6      7.0"
      ]
     },
     "execution_count": 35,
     "metadata": {},
     "output_type": "execute_result"
    }
   ],
   "source": [
    "dep_exp_category_agg = df.groupby('department').agg({'prices':['mean', 'min','max']})\n",
    "dep_exp_category_agg"
   ]
  },
  {
   "cell_type": "code",
   "execution_count": 36,
   "id": "82d2d5ed",
   "metadata": {},
   "outputs": [
    {
     "data": {
      "text/html": [
       "<div>\n",
       "<style scoped>\n",
       "    .dataframe tbody tr th:only-of-type {\n",
       "        vertical-align: middle;\n",
       "    }\n",
       "\n",
       "    .dataframe tbody tr th {\n",
       "        vertical-align: top;\n",
       "    }\n",
       "\n",
       "    .dataframe thead tr th {\n",
       "        text-align: left;\n",
       "    }\n",
       "\n",
       "    .dataframe thead tr:last-of-type th {\n",
       "        text-align: right;\n",
       "    }\n",
       "</style>\n",
       "<table border=\"1\" class=\"dataframe\">\n",
       "  <thead>\n",
       "    <tr>\n",
       "      <th></th>\n",
       "      <th colspan=\"3\" halign=\"left\">prices</th>\n",
       "    </tr>\n",
       "    <tr>\n",
       "      <th></th>\n",
       "      <th>mean</th>\n",
       "      <th>min</th>\n",
       "      <th>max</th>\n",
       "    </tr>\n",
       "    <tr>\n",
       "      <th>income_category</th>\n",
       "      <th></th>\n",
       "      <th></th>\n",
       "      <th></th>\n",
       "    </tr>\n",
       "  </thead>\n",
       "  <tbody>\n",
       "    <tr>\n",
       "      <th>Rich</th>\n",
       "      <td>289.772056</td>\n",
       "      <td>1.0</td>\n",
       "      <td>99999.0</td>\n",
       "    </tr>\n",
       "    <tr>\n",
       "      <th>lower_middle</th>\n",
       "      <td>6.707515</td>\n",
       "      <td>1.0</td>\n",
       "      <td>25.0</td>\n",
       "    </tr>\n",
       "    <tr>\n",
       "      <th>lowest</th>\n",
       "      <td>6.524778</td>\n",
       "      <td>1.0</td>\n",
       "      <td>25.0</td>\n",
       "    </tr>\n",
       "    <tr>\n",
       "      <th>middle</th>\n",
       "      <td>8.468613</td>\n",
       "      <td>1.0</td>\n",
       "      <td>99999.0</td>\n",
       "    </tr>\n",
       "    <tr>\n",
       "      <th>upper_middle</th>\n",
       "      <td>15.201384</td>\n",
       "      <td>1.0</td>\n",
       "      <td>99999.0</td>\n",
       "    </tr>\n",
       "  </tbody>\n",
       "</table>\n",
       "</div>"
      ],
      "text/plain": [
       "                     prices              \n",
       "                       mean  min      max\n",
       "income_category                          \n",
       "Rich             289.772056  1.0  99999.0\n",
       "lower_middle       6.707515  1.0     25.0\n",
       "lowest             6.524778  1.0     25.0\n",
       "middle             8.468613  1.0  99999.0\n",
       "upper_middle      15.201384  1.0  99999.0"
      ]
     },
     "execution_count": 36,
     "metadata": {},
     "output_type": "execute_result"
    }
   ],
   "source": [
    "income_exp_category_agg = df.groupby('income_category').agg({'prices':['mean', 'min','max']})\n",
    "income_exp_category_agg"
   ]
  },
  {
   "cell_type": "code",
   "execution_count": 37,
   "id": "c36f39d5",
   "metadata": {},
   "outputs": [
    {
     "data": {
      "text/html": [
       "<div>\n",
       "<style scoped>\n",
       "    .dataframe tbody tr th:only-of-type {\n",
       "        vertical-align: middle;\n",
       "    }\n",
       "\n",
       "    .dataframe tbody tr th {\n",
       "        vertical-align: top;\n",
       "    }\n",
       "\n",
       "    .dataframe thead tr th {\n",
       "        text-align: left;\n",
       "    }\n",
       "\n",
       "    .dataframe thead tr:last-of-type th {\n",
       "        text-align: right;\n",
       "    }\n",
       "</style>\n",
       "<table border=\"1\" class=\"dataframe\">\n",
       "  <thead>\n",
       "    <tr>\n",
       "      <th></th>\n",
       "      <th colspan=\"3\" halign=\"left\">prices</th>\n",
       "    </tr>\n",
       "    <tr>\n",
       "      <th></th>\n",
       "      <th>mean</th>\n",
       "      <th>min</th>\n",
       "      <th>max</th>\n",
       "    </tr>\n",
       "    <tr>\n",
       "      <th>age_category</th>\n",
       "      <th></th>\n",
       "      <th></th>\n",
       "      <th></th>\n",
       "    </tr>\n",
       "  </thead>\n",
       "  <tbody>\n",
       "    <tr>\n",
       "      <th>Senior</th>\n",
       "      <td>11.768850</td>\n",
       "      <td>1.0</td>\n",
       "      <td>99999.0</td>\n",
       "    </tr>\n",
       "    <tr>\n",
       "      <th>Senior Middle Age</th>\n",
       "      <td>11.823702</td>\n",
       "      <td>1.0</td>\n",
       "      <td>99999.0</td>\n",
       "    </tr>\n",
       "    <tr>\n",
       "      <th>college_age_adult</th>\n",
       "      <td>12.225207</td>\n",
       "      <td>1.0</td>\n",
       "      <td>99999.0</td>\n",
       "    </tr>\n",
       "    <tr>\n",
       "      <th>middle_age_adult</th>\n",
       "      <td>12.153358</td>\n",
       "      <td>1.0</td>\n",
       "      <td>99999.0</td>\n",
       "    </tr>\n",
       "    <tr>\n",
       "      <th>young_adult</th>\n",
       "      <td>12.145758</td>\n",
       "      <td>1.0</td>\n",
       "      <td>99999.0</td>\n",
       "    </tr>\n",
       "  </tbody>\n",
       "</table>\n",
       "</div>"
      ],
      "text/plain": [
       "                      prices              \n",
       "                        mean  min      max\n",
       "age_category                              \n",
       "Senior             11.768850  1.0  99999.0\n",
       "Senior Middle Age  11.823702  1.0  99999.0\n",
       "college_age_adult  12.225207  1.0  99999.0\n",
       "middle_age_adult   12.153358  1.0  99999.0\n",
       "young_adult        12.145758  1.0  99999.0"
      ]
     },
     "execution_count": 37,
     "metadata": {},
     "output_type": "execute_result"
    }
   ],
   "source": [
    "age_exp_category_agg = df.groupby('age_category').agg({'prices':['mean', 'min','max']})\n",
    "age_exp_category_agg"
   ]
  },
  {
   "cell_type": "code",
   "execution_count": 38,
   "id": "2f187457",
   "metadata": {},
   "outputs": [
    {
     "data": {
      "text/html": [
       "<div>\n",
       "<style scoped>\n",
       "    .dataframe tbody tr th:only-of-type {\n",
       "        vertical-align: middle;\n",
       "    }\n",
       "\n",
       "    .dataframe tbody tr th {\n",
       "        vertical-align: top;\n",
       "    }\n",
       "\n",
       "    .dataframe thead th {\n",
       "        text-align: right;\n",
       "    }\n",
       "</style>\n",
       "<table border=\"1\" class=\"dataframe\">\n",
       "  <thead>\n",
       "    <tr style=\"text-align: right;\">\n",
       "      <th>age_category</th>\n",
       "      <th>Senior</th>\n",
       "      <th>Senior Middle Age</th>\n",
       "      <th>college_age_adult</th>\n",
       "      <th>middle_age_adult</th>\n",
       "      <th>young_adult</th>\n",
       "    </tr>\n",
       "    <tr>\n",
       "      <th>department</th>\n",
       "      <th></th>\n",
       "      <th></th>\n",
       "      <th></th>\n",
       "      <th></th>\n",
       "      <th></th>\n",
       "    </tr>\n",
       "  </thead>\n",
       "  <tbody>\n",
       "    <tr>\n",
       "      <th>alcohol</th>\n",
       "      <td>39036</td>\n",
       "      <td>35798</td>\n",
       "      <td>16320</td>\n",
       "      <td>36241</td>\n",
       "      <td>26301</td>\n",
       "    </tr>\n",
       "    <tr>\n",
       "      <th>babies</th>\n",
       "      <td>109445</td>\n",
       "      <td>98736</td>\n",
       "      <td>39819</td>\n",
       "      <td>104529</td>\n",
       "      <td>71273</td>\n",
       "    </tr>\n",
       "    <tr>\n",
       "      <th>bakery</th>\n",
       "      <td>309522</td>\n",
       "      <td>274153</td>\n",
       "      <td>110149</td>\n",
       "      <td>276001</td>\n",
       "      <td>202603</td>\n",
       "    </tr>\n",
       "    <tr>\n",
       "      <th>beverages</th>\n",
       "      <td>714832</td>\n",
       "      <td>633966</td>\n",
       "      <td>249915</td>\n",
       "      <td>631224</td>\n",
       "      <td>458186</td>\n",
       "    </tr>\n",
       "    <tr>\n",
       "      <th>breakfast</th>\n",
       "      <td>183844</td>\n",
       "      <td>164767</td>\n",
       "      <td>67975</td>\n",
       "      <td>165385</td>\n",
       "      <td>121062</td>\n",
       "    </tr>\n",
       "    <tr>\n",
       "      <th>bulk</th>\n",
       "      <td>9242</td>\n",
       "      <td>7748</td>\n",
       "      <td>3350</td>\n",
       "      <td>8281</td>\n",
       "      <td>5952</td>\n",
       "    </tr>\n",
       "    <tr>\n",
       "      <th>canned goods</th>\n",
       "      <td>282438</td>\n",
       "      <td>248898</td>\n",
       "      <td>100303</td>\n",
       "      <td>250831</td>\n",
       "      <td>185588</td>\n",
       "    </tr>\n",
       "    <tr>\n",
       "      <th>dairy eggs</th>\n",
       "      <td>1426213</td>\n",
       "      <td>1247458</td>\n",
       "      <td>512388</td>\n",
       "      <td>1279772</td>\n",
       "      <td>932916</td>\n",
       "    </tr>\n",
       "    <tr>\n",
       "      <th>deli</th>\n",
       "      <td>277618</td>\n",
       "      <td>245676</td>\n",
       "      <td>99035</td>\n",
       "      <td>248934</td>\n",
       "      <td>179986</td>\n",
       "    </tr>\n",
       "    <tr>\n",
       "      <th>dry goods pasta</th>\n",
       "      <td>228935</td>\n",
       "      <td>203300</td>\n",
       "      <td>82342</td>\n",
       "      <td>202529</td>\n",
       "      <td>149521</td>\n",
       "    </tr>\n",
       "    <tr>\n",
       "      <th>frozen</th>\n",
       "      <td>593669</td>\n",
       "      <td>524416</td>\n",
       "      <td>210817</td>\n",
       "      <td>524846</td>\n",
       "      <td>380995</td>\n",
       "    </tr>\n",
       "    <tr>\n",
       "      <th>household</th>\n",
       "      <td>196935</td>\n",
       "      <td>172267</td>\n",
       "      <td>69073</td>\n",
       "      <td>174845</td>\n",
       "      <td>125546</td>\n",
       "    </tr>\n",
       "    <tr>\n",
       "      <th>international</th>\n",
       "      <td>70774</td>\n",
       "      <td>62209</td>\n",
       "      <td>25973</td>\n",
       "      <td>63631</td>\n",
       "      <td>46666</td>\n",
       "    </tr>\n",
       "    <tr>\n",
       "      <th>meat seafood</th>\n",
       "      <td>190114</td>\n",
       "      <td>164692</td>\n",
       "      <td>67539</td>\n",
       "      <td>165959</td>\n",
       "      <td>120623</td>\n",
       "    </tr>\n",
       "    <tr>\n",
       "      <th>missing</th>\n",
       "      <td>18094</td>\n",
       "      <td>15834</td>\n",
       "      <td>6940</td>\n",
       "      <td>16240</td>\n",
       "      <td>12037</td>\n",
       "    </tr>\n",
       "    <tr>\n",
       "      <th>other</th>\n",
       "      <td>9425</td>\n",
       "      <td>8567</td>\n",
       "      <td>3551</td>\n",
       "      <td>8429</td>\n",
       "      <td>6319</td>\n",
       "    </tr>\n",
       "    <tr>\n",
       "      <th>pantry</th>\n",
       "      <td>496979</td>\n",
       "      <td>438154</td>\n",
       "      <td>176993</td>\n",
       "      <td>441003</td>\n",
       "      <td>322240</td>\n",
       "    </tr>\n",
       "    <tr>\n",
       "      <th>personal care</th>\n",
       "      <td>117405</td>\n",
       "      <td>105705</td>\n",
       "      <td>41907</td>\n",
       "      <td>106217</td>\n",
       "      <td>76338</td>\n",
       "    </tr>\n",
       "    <tr>\n",
       "      <th>pets</th>\n",
       "      <td>26286</td>\n",
       "      <td>22712</td>\n",
       "      <td>9888</td>\n",
       "      <td>22340</td>\n",
       "      <td>16490</td>\n",
       "    </tr>\n",
       "    <tr>\n",
       "      <th>produce</th>\n",
       "      <td>2513763</td>\n",
       "      <td>2203926</td>\n",
       "      <td>896593</td>\n",
       "      <td>2241370</td>\n",
       "      <td>1623639</td>\n",
       "    </tr>\n",
       "    <tr>\n",
       "      <th>snacks</th>\n",
       "      <td>760515</td>\n",
       "      <td>677364</td>\n",
       "      <td>273069</td>\n",
       "      <td>677167</td>\n",
       "      <td>499435</td>\n",
       "    </tr>\n",
       "  </tbody>\n",
       "</table>\n",
       "</div>"
      ],
      "text/plain": [
       "age_category      Senior  Senior Middle Age  college_age_adult  \\\n",
       "department                                                       \n",
       "alcohol            39036              35798              16320   \n",
       "babies            109445              98736              39819   \n",
       "bakery            309522             274153             110149   \n",
       "beverages         714832             633966             249915   \n",
       "breakfast         183844             164767              67975   \n",
       "bulk                9242               7748               3350   \n",
       "canned goods      282438             248898             100303   \n",
       "dairy eggs       1426213            1247458             512388   \n",
       "deli              277618             245676              99035   \n",
       "dry goods pasta   228935             203300              82342   \n",
       "frozen            593669             524416             210817   \n",
       "household         196935             172267              69073   \n",
       "international      70774              62209              25973   \n",
       "meat seafood      190114             164692              67539   \n",
       "missing            18094              15834               6940   \n",
       "other               9425               8567               3551   \n",
       "pantry            496979             438154             176993   \n",
       "personal care     117405             105705              41907   \n",
       "pets               26286              22712               9888   \n",
       "produce          2513763            2203926             896593   \n",
       "snacks            760515             677364             273069   \n",
       "\n",
       "age_category     middle_age_adult  young_adult  \n",
       "department                                      \n",
       "alcohol                     36241        26301  \n",
       "babies                     104529        71273  \n",
       "bakery                     276001       202603  \n",
       "beverages                  631224       458186  \n",
       "breakfast                  165385       121062  \n",
       "bulk                         8281         5952  \n",
       "canned goods               250831       185588  \n",
       "dairy eggs                1279772       932916  \n",
       "deli                       248934       179986  \n",
       "dry goods pasta            202529       149521  \n",
       "frozen                     524846       380995  \n",
       "household                  174845       125546  \n",
       "international               63631        46666  \n",
       "meat seafood               165959       120623  \n",
       "missing                     16240        12037  \n",
       "other                        8429         6319  \n",
       "pantry                     441003       322240  \n",
       "personal care              106217        76338  \n",
       "pets                        22340        16490  \n",
       "produce                   2241370      1623639  \n",
       "snacks                     677167       499435  "
      ]
     },
     "execution_count": 38,
     "metadata": {},
     "output_type": "execute_result"
    }
   ],
   "source": [
    "#Q8 compare customer profiles with regions and departments\n",
    "age_dep_crosstab = pd.crosstab(df['department'], df['age_category'])\n",
    "age_dep_crosstab"
   ]
  },
  {
   "cell_type": "code",
   "execution_count": 39,
   "id": "a85f99e3",
   "metadata": {},
   "outputs": [],
   "source": [
    "#Conclusion: bulk products increase in popularity as an individuals age. "
   ]
  },
  {
   "cell_type": "code",
   "execution_count": 40,
   "id": "5da6d02f",
   "metadata": {},
   "outputs": [
    {
     "data": {
      "text/html": [
       "<div>\n",
       "<style scoped>\n",
       "    .dataframe tbody tr th:only-of-type {\n",
       "        vertical-align: middle;\n",
       "    }\n",
       "\n",
       "    .dataframe tbody tr th {\n",
       "        vertical-align: top;\n",
       "    }\n",
       "\n",
       "    .dataframe thead th {\n",
       "        text-align: right;\n",
       "    }\n",
       "</style>\n",
       "<table border=\"1\" class=\"dataframe\">\n",
       "  <thead>\n",
       "    <tr style=\"text-align: right;\">\n",
       "      <th>region</th>\n",
       "      <th>Midwest</th>\n",
       "      <th>Northeast</th>\n",
       "      <th>South</th>\n",
       "      <th>West</th>\n",
       "    </tr>\n",
       "    <tr>\n",
       "      <th>age_category</th>\n",
       "      <th></th>\n",
       "      <th></th>\n",
       "      <th></th>\n",
       "      <th></th>\n",
       "    </tr>\n",
       "  </thead>\n",
       "  <tbody>\n",
       "    <tr>\n",
       "      <th>Senior</th>\n",
       "      <td>1990844</td>\n",
       "      <td>1553903</td>\n",
       "      <td>2836257</td>\n",
       "      <td>2194080</td>\n",
       "    </tr>\n",
       "    <tr>\n",
       "      <th>Senior Middle Age</th>\n",
       "      <td>1778290</td>\n",
       "      <td>1309271</td>\n",
       "      <td>2502881</td>\n",
       "      <td>1965904</td>\n",
       "    </tr>\n",
       "    <tr>\n",
       "      <th>college_age_adult</th>\n",
       "      <td>718340</td>\n",
       "      <td>545870</td>\n",
       "      <td>1040416</td>\n",
       "      <td>759313</td>\n",
       "    </tr>\n",
       "    <tr>\n",
       "      <th>middle_age_adult</th>\n",
       "      <td>1825619</td>\n",
       "      <td>1324020</td>\n",
       "      <td>2554422</td>\n",
       "      <td>1941713</td>\n",
       "    </tr>\n",
       "    <tr>\n",
       "      <th>young_adult</th>\n",
       "      <td>1284232</td>\n",
       "      <td>989672</td>\n",
       "      <td>1857909</td>\n",
       "      <td>1431903</td>\n",
       "    </tr>\n",
       "  </tbody>\n",
       "</table>\n",
       "</div>"
      ],
      "text/plain": [
       "region             Midwest  Northeast    South     West\n",
       "age_category                                           \n",
       "Senior             1990844    1553903  2836257  2194080\n",
       "Senior Middle Age  1778290    1309271  2502881  1965904\n",
       "college_age_adult   718340     545870  1040416   759313\n",
       "middle_age_adult   1825619    1324020  2554422  1941713\n",
       "young_adult        1284232     989672  1857909  1431903"
      ]
     },
     "execution_count": 40,
     "metadata": {},
     "output_type": "execute_result"
    }
   ],
   "source": [
    "age_region_crosstab = pd.crosstab(df['age_category'], df['region'])\n",
    "age_region_crosstab"
   ]
  },
  {
   "cell_type": "code",
   "execution_count": 41,
   "id": "1c0b8cb6",
   "metadata": {},
   "outputs": [],
   "source": [
    "#Conclusion: Instacart is most popular in the southern region amongst all age groups. The north east has the least number of customers in all age groups."
   ]
  },
  {
   "cell_type": "code",
   "execution_count": 42,
   "id": "4e6d7d6a",
   "metadata": {
    "scrolled": true
   },
   "outputs": [
    {
     "data": {
      "text/html": [
       "<div>\n",
       "<style scoped>\n",
       "    .dataframe tbody tr th:only-of-type {\n",
       "        vertical-align: middle;\n",
       "    }\n",
       "\n",
       "    .dataframe tbody tr th {\n",
       "        vertical-align: top;\n",
       "    }\n",
       "\n",
       "    .dataframe thead th {\n",
       "        text-align: right;\n",
       "    }\n",
       "</style>\n",
       "<table border=\"1\" class=\"dataframe\">\n",
       "  <thead>\n",
       "    <tr style=\"text-align: right;\">\n",
       "      <th>income_category</th>\n",
       "      <th>Rich</th>\n",
       "      <th>lower_middle</th>\n",
       "      <th>lowest</th>\n",
       "      <th>middle</th>\n",
       "      <th>upper_middle</th>\n",
       "    </tr>\n",
       "    <tr>\n",
       "      <th>department</th>\n",
       "      <th></th>\n",
       "      <th></th>\n",
       "      <th></th>\n",
       "      <th></th>\n",
       "      <th></th>\n",
       "    </tr>\n",
       "  </thead>\n",
       "  <tbody>\n",
       "    <tr>\n",
       "      <th>alcohol</th>\n",
       "      <td>2399</td>\n",
       "      <td>18414</td>\n",
       "      <td>1394</td>\n",
       "      <td>61158</td>\n",
       "      <td>70331</td>\n",
       "    </tr>\n",
       "    <tr>\n",
       "      <th>babies</th>\n",
       "      <td>589</td>\n",
       "      <td>29189</td>\n",
       "      <td>1669</td>\n",
       "      <td>190605</td>\n",
       "      <td>201750</td>\n",
       "    </tr>\n",
       "    <tr>\n",
       "      <th>bakery</th>\n",
       "      <td>3454</td>\n",
       "      <td>108249</td>\n",
       "      <td>6460</td>\n",
       "      <td>508193</td>\n",
       "      <td>546072</td>\n",
       "    </tr>\n",
       "    <tr>\n",
       "      <th>beverages</th>\n",
       "      <td>7091</td>\n",
       "      <td>380814</td>\n",
       "      <td>24691</td>\n",
       "      <td>1109160</td>\n",
       "      <td>1166367</td>\n",
       "    </tr>\n",
       "    <tr>\n",
       "      <th>breakfast</th>\n",
       "      <td>1774</td>\n",
       "      <td>92201</td>\n",
       "      <td>5167</td>\n",
       "      <td>295032</td>\n",
       "      <td>308859</td>\n",
       "    </tr>\n",
       "    <tr>\n",
       "      <th>bulk</th>\n",
       "      <td>4</td>\n",
       "      <td>4548</td>\n",
       "      <td>341</td>\n",
       "      <td>14993</td>\n",
       "      <td>14687</td>\n",
       "    </tr>\n",
       "    <tr>\n",
       "      <th>canned goods</th>\n",
       "      <td>2808</td>\n",
       "      <td>81970</td>\n",
       "      <td>4682</td>\n",
       "      <td>471816</td>\n",
       "      <td>506782</td>\n",
       "    </tr>\n",
       "    <tr>\n",
       "      <th>dairy eggs</th>\n",
       "      <td>12527</td>\n",
       "      <td>504823</td>\n",
       "      <td>30256</td>\n",
       "      <td>2361601</td>\n",
       "      <td>2489540</td>\n",
       "    </tr>\n",
       "    <tr>\n",
       "      <th>deli</th>\n",
       "      <td>2019</td>\n",
       "      <td>107171</td>\n",
       "      <td>6925</td>\n",
       "      <td>455037</td>\n",
       "      <td>480097</td>\n",
       "    </tr>\n",
       "    <tr>\n",
       "      <th>dry goods pasta</th>\n",
       "      <td>2130</td>\n",
       "      <td>66323</td>\n",
       "      <td>4318</td>\n",
       "      <td>383963</td>\n",
       "      <td>409893</td>\n",
       "    </tr>\n",
       "    <tr>\n",
       "      <th>frozen</th>\n",
       "      <td>5456</td>\n",
       "      <td>219694</td>\n",
       "      <td>13796</td>\n",
       "      <td>965381</td>\n",
       "      <td>1030416</td>\n",
       "    </tr>\n",
       "    <tr>\n",
       "      <th>household</th>\n",
       "      <td>3775</td>\n",
       "      <td>89033</td>\n",
       "      <td>5146</td>\n",
       "      <td>308710</td>\n",
       "      <td>332002</td>\n",
       "    </tr>\n",
       "    <tr>\n",
       "      <th>international</th>\n",
       "      <td>635</td>\n",
       "      <td>21969</td>\n",
       "      <td>1472</td>\n",
       "      <td>120031</td>\n",
       "      <td>125146</td>\n",
       "    </tr>\n",
       "    <tr>\n",
       "      <th>meat seafood</th>\n",
       "      <td>1721</td>\n",
       "      <td>35376</td>\n",
       "      <td>1689</td>\n",
       "      <td>320311</td>\n",
       "      <td>349830</td>\n",
       "    </tr>\n",
       "    <tr>\n",
       "      <th>missing</th>\n",
       "      <td>87</td>\n",
       "      <td>6815</td>\n",
       "      <td>425</td>\n",
       "      <td>30654</td>\n",
       "      <td>31164</td>\n",
       "    </tr>\n",
       "    <tr>\n",
       "      <th>other</th>\n",
       "      <td>150</td>\n",
       "      <td>3883</td>\n",
       "      <td>300</td>\n",
       "      <td>15552</td>\n",
       "      <td>16406</td>\n",
       "    </tr>\n",
       "    <tr>\n",
       "      <th>pantry</th>\n",
       "      <td>4620</td>\n",
       "      <td>169965</td>\n",
       "      <td>9467</td>\n",
       "      <td>815888</td>\n",
       "      <td>875429</td>\n",
       "    </tr>\n",
       "    <tr>\n",
       "      <th>personal care</th>\n",
       "      <td>1185</td>\n",
       "      <td>49105</td>\n",
       "      <td>2650</td>\n",
       "      <td>192594</td>\n",
       "      <td>202038</td>\n",
       "    </tr>\n",
       "    <tr>\n",
       "      <th>pets</th>\n",
       "      <td>584</td>\n",
       "      <td>8822</td>\n",
       "      <td>490</td>\n",
       "      <td>41352</td>\n",
       "      <td>46468</td>\n",
       "    </tr>\n",
       "    <tr>\n",
       "      <th>produce</th>\n",
       "      <td>14635</td>\n",
       "      <td>832998</td>\n",
       "      <td>49104</td>\n",
       "      <td>4186316</td>\n",
       "      <td>4396238</td>\n",
       "    </tr>\n",
       "    <tr>\n",
       "      <th>snacks</th>\n",
       "      <td>6714</td>\n",
       "      <td>555634</td>\n",
       "      <td>36645</td>\n",
       "      <td>1147663</td>\n",
       "      <td>1140894</td>\n",
       "    </tr>\n",
       "  </tbody>\n",
       "</table>\n",
       "</div>"
      ],
      "text/plain": [
       "income_category   Rich  lower_middle  lowest   middle  upper_middle\n",
       "department                                                         \n",
       "alcohol           2399         18414    1394    61158         70331\n",
       "babies             589         29189    1669   190605        201750\n",
       "bakery            3454        108249    6460   508193        546072\n",
       "beverages         7091        380814   24691  1109160       1166367\n",
       "breakfast         1774         92201    5167   295032        308859\n",
       "bulk                 4          4548     341    14993         14687\n",
       "canned goods      2808         81970    4682   471816        506782\n",
       "dairy eggs       12527        504823   30256  2361601       2489540\n",
       "deli              2019        107171    6925   455037        480097\n",
       "dry goods pasta   2130         66323    4318   383963        409893\n",
       "frozen            5456        219694   13796   965381       1030416\n",
       "household         3775         89033    5146   308710        332002\n",
       "international      635         21969    1472   120031        125146\n",
       "meat seafood      1721         35376    1689   320311        349830\n",
       "missing             87          6815     425    30654         31164\n",
       "other              150          3883     300    15552         16406\n",
       "pantry            4620        169965    9467   815888        875429\n",
       "personal care     1185         49105    2650   192594        202038\n",
       "pets               584          8822     490    41352         46468\n",
       "produce          14635        832998   49104  4186316       4396238\n",
       "snacks            6714        555634   36645  1147663       1140894"
      ]
     },
     "execution_count": 42,
     "metadata": {},
     "output_type": "execute_result"
    }
   ],
   "source": [
    "income_dep_crosstab = pd.crosstab(df['department'], df['income_category'])\n",
    "income_dep_crosstab"
   ]
  },
  {
   "cell_type": "code",
   "execution_count": 43,
   "id": "1fd7dace",
   "metadata": {},
   "outputs": [],
   "source": [
    "#Conclusion: Very few rich and lowest income individauls buy in bulk. Individuals in different income categories purchase from different departments in instacart. "
   ]
  },
  {
   "cell_type": "code",
   "execution_count": 44,
   "id": "964bd125",
   "metadata": {},
   "outputs": [
    {
     "data": {
      "text/html": [
       "<div>\n",
       "<style scoped>\n",
       "    .dataframe tbody tr th:only-of-type {\n",
       "        vertical-align: middle;\n",
       "    }\n",
       "\n",
       "    .dataframe tbody tr th {\n",
       "        vertical-align: top;\n",
       "    }\n",
       "\n",
       "    .dataframe thead th {\n",
       "        text-align: right;\n",
       "    }\n",
       "</style>\n",
       "<table border=\"1\" class=\"dataframe\">\n",
       "  <thead>\n",
       "    <tr style=\"text-align: right;\">\n",
       "      <th>region</th>\n",
       "      <th>Midwest</th>\n",
       "      <th>Northeast</th>\n",
       "      <th>South</th>\n",
       "      <th>West</th>\n",
       "    </tr>\n",
       "    <tr>\n",
       "      <th>income_category</th>\n",
       "      <th></th>\n",
       "      <th></th>\n",
       "      <th></th>\n",
       "      <th></th>\n",
       "    </tr>\n",
       "  </thead>\n",
       "  <tbody>\n",
       "    <tr>\n",
       "      <th>Rich</th>\n",
       "      <td>24093</td>\n",
       "      <td>11985</td>\n",
       "      <td>20457</td>\n",
       "      <td>17822</td>\n",
       "    </tr>\n",
       "    <tr>\n",
       "      <th>lower_middle</th>\n",
       "      <td>781982</td>\n",
       "      <td>591904</td>\n",
       "      <td>1149933</td>\n",
       "      <td>863177</td>\n",
       "    </tr>\n",
       "    <tr>\n",
       "      <th>lowest</th>\n",
       "      <td>56416</td>\n",
       "      <td>35352</td>\n",
       "      <td>69527</td>\n",
       "      <td>45792</td>\n",
       "    </tr>\n",
       "    <tr>\n",
       "      <th>middle</th>\n",
       "      <td>3218985</td>\n",
       "      <td>2467005</td>\n",
       "      <td>4706582</td>\n",
       "      <td>3603438</td>\n",
       "    </tr>\n",
       "    <tr>\n",
       "      <th>upper_middle</th>\n",
       "      <td>3515849</td>\n",
       "      <td>2616490</td>\n",
       "      <td>4845386</td>\n",
       "      <td>3762684</td>\n",
       "    </tr>\n",
       "  </tbody>\n",
       "</table>\n",
       "</div>"
      ],
      "text/plain": [
       "region           Midwest  Northeast    South     West\n",
       "income_category                                      \n",
       "Rich               24093      11985    20457    17822\n",
       "lower_middle      781982     591904  1149933   863177\n",
       "lowest             56416      35352    69527    45792\n",
       "middle           3218985    2467005  4706582  3603438\n",
       "upper_middle     3515849    2616490  4845386  3762684"
      ]
     },
     "execution_count": 44,
     "metadata": {},
     "output_type": "execute_result"
    }
   ],
   "source": [
    "income_region_crosstab = pd.crosstab(df['income_category'], df['region'])\n",
    "income_region_crosstab"
   ]
  },
  {
   "cell_type": "code",
   "execution_count": 45,
   "id": "ca7e58c6",
   "metadata": {},
   "outputs": [],
   "source": [
    "#Conclusion:\n",
    "#The midwest has the most individuals who belong to the rich income category. The south has most of the lowest, low_middle class, middle, and upper middle customers. "
   ]
  },
  {
   "cell_type": "code",
   "execution_count": 46,
   "id": "632aae18",
   "metadata": {},
   "outputs": [
    {
     "data": {
      "text/html": [
       "<div>\n",
       "<style scoped>\n",
       "    .dataframe tbody tr th:only-of-type {\n",
       "        vertical-align: middle;\n",
       "    }\n",
       "\n",
       "    .dataframe tbody tr th {\n",
       "        vertical-align: top;\n",
       "    }\n",
       "\n",
       "    .dataframe thead th {\n",
       "        text-align: right;\n",
       "    }\n",
       "</style>\n",
       "<table border=\"1\" class=\"dataframe\">\n",
       "  <thead>\n",
       "    <tr style=\"text-align: right;\">\n",
       "      <th>household_status</th>\n",
       "      <th>Has Dependents</th>\n",
       "      <th>No Dependents</th>\n",
       "    </tr>\n",
       "    <tr>\n",
       "      <th>department</th>\n",
       "      <th></th>\n",
       "      <th></th>\n",
       "    </tr>\n",
       "  </thead>\n",
       "  <tbody>\n",
       "    <tr>\n",
       "      <th>alcohol</th>\n",
       "      <td>114578</td>\n",
       "      <td>39118</td>\n",
       "    </tr>\n",
       "    <tr>\n",
       "      <th>babies</th>\n",
       "      <td>317308</td>\n",
       "      <td>106494</td>\n",
       "    </tr>\n",
       "    <tr>\n",
       "      <th>bakery</th>\n",
       "      <td>878023</td>\n",
       "      <td>294405</td>\n",
       "    </tr>\n",
       "    <tr>\n",
       "      <th>beverages</th>\n",
       "      <td>2013681</td>\n",
       "      <td>674442</td>\n",
       "    </tr>\n",
       "    <tr>\n",
       "      <th>breakfast</th>\n",
       "      <td>528456</td>\n",
       "      <td>174577</td>\n",
       "    </tr>\n",
       "    <tr>\n",
       "      <th>bulk</th>\n",
       "      <td>26295</td>\n",
       "      <td>8278</td>\n",
       "    </tr>\n",
       "    <tr>\n",
       "      <th>canned goods</th>\n",
       "      <td>803220</td>\n",
       "      <td>264838</td>\n",
       "    </tr>\n",
       "    <tr>\n",
       "      <th>dairy eggs</th>\n",
       "      <td>4049385</td>\n",
       "      <td>1349362</td>\n",
       "    </tr>\n",
       "    <tr>\n",
       "      <th>deli</th>\n",
       "      <td>786104</td>\n",
       "      <td>265145</td>\n",
       "    </tr>\n",
       "    <tr>\n",
       "      <th>dry goods pasta</th>\n",
       "      <td>651365</td>\n",
       "      <td>215262</td>\n",
       "    </tr>\n",
       "    <tr>\n",
       "      <th>frozen</th>\n",
       "      <td>1677583</td>\n",
       "      <td>557160</td>\n",
       "    </tr>\n",
       "    <tr>\n",
       "      <th>household</th>\n",
       "      <td>557893</td>\n",
       "      <td>180773</td>\n",
       "    </tr>\n",
       "    <tr>\n",
       "      <th>international</th>\n",
       "      <td>201540</td>\n",
       "      <td>67713</td>\n",
       "    </tr>\n",
       "    <tr>\n",
       "      <th>meat seafood</th>\n",
       "      <td>534843</td>\n",
       "      <td>174084</td>\n",
       "    </tr>\n",
       "    <tr>\n",
       "      <th>missing</th>\n",
       "      <td>52057</td>\n",
       "      <td>17088</td>\n",
       "    </tr>\n",
       "    <tr>\n",
       "      <th>other</th>\n",
       "      <td>27116</td>\n",
       "      <td>9175</td>\n",
       "    </tr>\n",
       "    <tr>\n",
       "      <th>pantry</th>\n",
       "      <td>1408612</td>\n",
       "      <td>466757</td>\n",
       "    </tr>\n",
       "    <tr>\n",
       "      <th>personal care</th>\n",
       "      <td>335566</td>\n",
       "      <td>112006</td>\n",
       "    </tr>\n",
       "    <tr>\n",
       "      <th>pets</th>\n",
       "      <td>73133</td>\n",
       "      <td>24583</td>\n",
       "    </tr>\n",
       "    <tr>\n",
       "      <th>produce</th>\n",
       "      <td>7103846</td>\n",
       "      <td>2375445</td>\n",
       "    </tr>\n",
       "    <tr>\n",
       "      <th>snacks</th>\n",
       "      <td>2166752</td>\n",
       "      <td>720798</td>\n",
       "    </tr>\n",
       "  </tbody>\n",
       "</table>\n",
       "</div>"
      ],
      "text/plain": [
       "household_status  Has Dependents  No Dependents\n",
       "department                                     \n",
       "alcohol                   114578          39118\n",
       "babies                    317308         106494\n",
       "bakery                    878023         294405\n",
       "beverages                2013681         674442\n",
       "breakfast                 528456         174577\n",
       "bulk                       26295           8278\n",
       "canned goods              803220         264838\n",
       "dairy eggs               4049385        1349362\n",
       "deli                      786104         265145\n",
       "dry goods pasta           651365         215262\n",
       "frozen                   1677583         557160\n",
       "household                 557893         180773\n",
       "international             201540          67713\n",
       "meat seafood              534843         174084\n",
       "missing                    52057          17088\n",
       "other                      27116           9175\n",
       "pantry                   1408612         466757\n",
       "personal care             335566         112006\n",
       "pets                       73133          24583\n",
       "produce                  7103846        2375445\n",
       "snacks                   2166752         720798"
      ]
     },
     "execution_count": 46,
     "metadata": {},
     "output_type": "execute_result"
    }
   ],
   "source": [
    "household_status_dep_crosstab = pd.crosstab(df['department'], df['household_status'])\n",
    "household_status_dep_crosstab"
   ]
  },
  {
   "cell_type": "code",
   "execution_count": 47,
   "id": "0327605a",
   "metadata": {},
   "outputs": [
    {
     "data": {
      "text/plain": [
       "Has Dependents    24307356\n",
       "No Dependents      8097503\n",
       "Name: household_status, dtype: int64"
      ]
     },
     "execution_count": 47,
     "metadata": {},
     "output_type": "execute_result"
    }
   ],
   "source": [
    "df.household_status.value_counts()"
   ]
  },
  {
   "cell_type": "code",
   "execution_count": 48,
   "id": "5d150c87",
   "metadata": {},
   "outputs": [],
   "source": [
    "#conclusion: Suprisingly, a good amount of customers with no dependents buy from the baby and bulk department. "
   ]
  },
  {
   "cell_type": "code",
   "execution_count": 49,
   "id": "d6062de6",
   "metadata": {},
   "outputs": [
    {
     "data": {
      "text/html": [
       "<div>\n",
       "<style scoped>\n",
       "    .dataframe tbody tr th:only-of-type {\n",
       "        vertical-align: middle;\n",
       "    }\n",
       "\n",
       "    .dataframe tbody tr th {\n",
       "        vertical-align: top;\n",
       "    }\n",
       "\n",
       "    .dataframe thead th {\n",
       "        text-align: right;\n",
       "    }\n",
       "</style>\n",
       "<table border=\"1\" class=\"dataframe\">\n",
       "  <thead>\n",
       "    <tr style=\"text-align: right;\">\n",
       "      <th>region</th>\n",
       "      <th>Midwest</th>\n",
       "      <th>Northeast</th>\n",
       "      <th>South</th>\n",
       "      <th>West</th>\n",
       "    </tr>\n",
       "    <tr>\n",
       "      <th>household_status</th>\n",
       "      <th></th>\n",
       "      <th></th>\n",
       "      <th></th>\n",
       "      <th></th>\n",
       "    </tr>\n",
       "  </thead>\n",
       "  <tbody>\n",
       "    <tr>\n",
       "      <th>Has Dependents</th>\n",
       "      <td>5692125</td>\n",
       "      <td>4304435</td>\n",
       "      <td>8090226</td>\n",
       "      <td>6220570</td>\n",
       "    </tr>\n",
       "    <tr>\n",
       "      <th>No Dependents</th>\n",
       "      <td>1905200</td>\n",
       "      <td>1418301</td>\n",
       "      <td>2701659</td>\n",
       "      <td>2072343</td>\n",
       "    </tr>\n",
       "  </tbody>\n",
       "</table>\n",
       "</div>"
      ],
      "text/plain": [
       "region            Midwest  Northeast    South     West\n",
       "household_status                                      \n",
       "Has Dependents    5692125    4304435  8090226  6220570\n",
       "No Dependents     1905200    1418301  2701659  2072343"
      ]
     },
     "execution_count": 49,
     "metadata": {},
     "output_type": "execute_result"
    }
   ],
   "source": [
    "household_status_region_crosstab = pd.crosstab(df['household_status'], df['region'])\n",
    "household_status_region_crosstab"
   ]
  },
  {
   "cell_type": "code",
   "execution_count": 50,
   "id": "68d25fb7",
   "metadata": {},
   "outputs": [],
   "source": [
    "#conclusion: The midwest, northeast, and west have a similar number of customers without dependents."
   ]
  },
  {
   "cell_type": "code",
   "execution_count": 51,
   "id": "c451c3c2",
   "metadata": {},
   "outputs": [],
   "source": [
    "#Charts:"
   ]
  },
  {
   "cell_type": "code",
   "execution_count": 52,
   "id": "d8b7c759",
   "metadata": {},
   "outputs": [
    {
     "data": {
      "image/png": "[encoded data removed]",
      "text/plain": [
       "<Figure size 640x480 with 1 Axes>"
      ]
     },
     "metadata": {},
     "output_type": "display_data"
    }
   ],
   "source": [
    "age_category_dep_chart = age_dep_crosstab.plot(kind = 'bar', stacked = True, color = ['green', 'purple', 'lightgreen', 'blue', 'lightblue'])"
   ]
  },
  {
   "cell_type": "code",
   "execution_count": 53,
   "id": "b95d5a15",
   "metadata": {},
   "outputs": [
    {
     "data": {
      "image/png": "[encoded data removed]",
      "text/plain": [
       "<Figure size 640x480 with 1 Axes>"
      ]
     },
     "metadata": {},
     "output_type": "display_data"
    }
   ],
   "source": [
    "age_category_region_chart = age_region_crosstab.plot(kind = 'bar', stacked = True, color = ['green', 'purple', 'lightgreen', 'blue', 'lightblue'])"
   ]
  },
  {
   "cell_type": "code",
   "execution_count": 54,
   "id": "22ed87f3",
   "metadata": {},
   "outputs": [
    {
     "data": {
      "image/png": "[encoded data removed]",
      "text/plain": [
       "<Figure size 640x480 with 1 Axes>"
      ]
     },
     "metadata": {},
     "output_type": "display_data"
    }
   ],
   "source": [
    "income_category_dep_chart = income_dep_crosstab.plot(kind = 'bar', stacked = True, color = ['green', 'purple', 'lightgreen', 'blue', 'lightblue'])"
   ]
  },
  {
   "cell_type": "code",
   "execution_count": 55,
   "id": "14e3d9c8",
   "metadata": {},
   "outputs": [
    {
     "data": {
      "image/png": "[encoded data removed]",
      "text/plain": [
       "<Figure size 640x480 with 1 Axes>"
      ]
     },
     "metadata": {},
     "output_type": "display_data"
    }
   ],
   "source": [
    "income_category_region_chart = income_region_crosstab.plot(kind = 'bar', stacked = True, color = ['green', 'purple', 'lightgreen', 'blue', 'lightblue'])"
   ]
  },
  {
   "cell_type": "code",
   "execution_count": 56,
   "id": "55eacd91",
   "metadata": {},
   "outputs": [
    {
     "data": {
      "image/png": "[encoded data removed]",
      "text/plain": [
       "<Figure size 640x480 with 1 Axes>"
      ]
     },
     "metadata": {},
     "output_type": "display_data"
    }
   ],
   "source": [
    "household_status_dep_chart = household_status_dep_crosstab.plot(kind = 'bar', stacked = True, color = ['green', 'purple', 'lightgreen', 'blue', 'lightblue'])"
   ]
  },
  {
   "cell_type": "code",
   "execution_count": 57,
   "id": "73675657",
   "metadata": {},
   "outputs": [
    {
     "data": {
      "image/png": "[encoded data removed]",
      "text/plain": [
       "<Figure size 640x480 with 1 Axes>"
      ]
     },
     "metadata": {},
     "output_type": "display_data"
    }
   ],
   "source": [
    "household_status_region_chart = household_status_region_crosstab.plot(kind = 'bar', stacked = True, color = ['green', 'purple', 'lightgreen', 'blue', 'lightblue'])"
   ]
  },
  {
   "cell_type": "code",
   "execution_count": 58,
   "id": "890bc0b9",
   "metadata": {},
   "outputs": [],
   "source": [
    "#Export Chart"
   ]
  },
  {
   "cell_type": "code",
   "execution_count": 59,
   "id": "ac1d6bfb",
   "metadata": {},
   "outputs": [],
   "source": [
    "age_category_dep_chart.figure.savefig(os.path.join(path, '04 Analysis', 'Visualizations', 'age_category_dep_chart.png'))\n",
    "age_category_region_chart.figure.savefig(os.path.join(path, '04 Analysis', 'Visualizations', 'age_category_region_chart.png'))\n",
    "income_category_dep_chart.figure.savefig(os.path.join(path, '04 Analysis', 'Visualizations', 'income_category_dep_chart.png'))\n",
    "income_category_region_chart.figure.savefig(os.path.join(path, '04 Analysis', 'Visualizations', 'income_category_region_chart.png'))\n",
    "household_status_dep_chart.figure.savefig(os.path.join(path, '04 Analysis', 'Visualizations', 'household_status_dep_chart.png'))\n",
    "household_status_region_chart.figure.savefig(os.path.join(path, '04 Analysis', 'Visualizations', 'household_status_region_chart.png'))"
   ]
  },
  {
   "cell_type": "code",
   "execution_count": 60,
   "id": "9aa97691",
   "metadata": {},
   "outputs": [
    {
     "data": {
      "text/plain": [
       "(32404859, 32)"
      ]
     },
     "execution_count": 60,
     "metadata": {},
     "output_type": "execute_result"
    }
   ],
   "source": [
    "df.shape"
   ]
  },
  {
   "cell_type": "code",
   "execution_count": 61,
   "id": "4ef6d6df",
   "metadata": {},
   "outputs": [],
   "source": [
    "#export data set\n",
    "df.to_pickle(os.path.join(path, '02 Data', '02 Prepared Data', '4_10final.pkl'))"
   ]
  }
 ],
 "metadata": {
  "kernelspec": {
   "display_name": "Python 3 (ipykernel)",
   "language": "python",
   "name": "python3"
  },
  "language_info": {
   "codemirror_mode": {
    "name": "ipython",
    "version": 3
   },
   "file_extension": ".py",
   "mimetype": "text/x-python",
   "name": "python",
   "nbconvert_exporter": "python",
   "pygments_lexer": "ipython3",
   "version": "3.9.13"
  }
 },
 "nbformat": 4,
 "nbformat_minor": 5
}
